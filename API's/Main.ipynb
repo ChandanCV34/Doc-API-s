

# -*- coding: utf-8 -*-
"""
Created on Thu Dec 23 10:09:26 2021

@author: Administrator
"""
from flask import Flask
from flask_cors import CORS, cross_origin

UPLOAD_FOLDER = 'D:/uploads'

app = Flask(__name__)
app.secret_key = "secret key"
app.config['UPLOAD_FOLDER'] = UPLOAD_FOLDER
app.config['MAX_CONTENT_LENGTH'] = 16 * 1024 * 1024
cors = CORS(app)
app.config['CORS_HEADERS'] = 'Content-Type'
