# -*- coding: utf-8 -*-
"""
Created on Sun Dec 26 12:11:50 2021

@author: Administrator
"""

import os
import csv
import urllib.request
from app import app
from flask import Flask, request, redirect, jsonify,send_file
from werkzeug.utils import secure_filename
from flask_cors import CORS, cross_origin
import matplotlib.pyplot as plt
from matplotlib.pyplot import pie, axis, show
from pymongo import MongoClient
import gridfs
import pandas
from bson.json_util import dumps
import tabula
import glob
import os.path
import pandas as pd


ALLOWED_EXTENSIONS = set(['pdf','csv'])

def allowed_file(filename):
	return '.' in filename and filename.rsplit('.', 1)[1].lower() in ALLOWED_EXTENSIONS

@app.route('/file-upload', methods=['POST','GET'])
@cross_origin()
def upload_file():
	# check if the post request has the file part
	if 'file' not in request.files:
		resp = jsonify({'message' : 'No file part in the request'})
		resp.status_code = 201
		return resp
	file = request.files['file']
	if file.filename == '':
		resp = jsonify({'message' : 'No file selected for uploading'})
		resp.status_code = 201
		return resp
	if file and allowed_file(file.filename):
		filename = secure_filename(file.filename)
		file.save(os.path.join(app.config['UPLOAD_FOLDER'], filename))
		resp = jsonify({'message' : 'File successfully uploaded'})
		resp.status_code = 201
		return resp
	else:
		resp = jsonify({'message' : 'Allowed file types are pdf and csv only'})
		resp.status_code = 201
		return resp
    
@app.route("/bargraph", methods = ['GET','POST'])
def bargraph():
    target_path ='D:\\uploads'
          
    folder_path = r'D:\\uploads'
    file_type = '\*csv'
    files = glob.glob(folder_path + file_type)
    max_file = max(files, key=os.path.getctime)
    app = Flask(__name__)

    client = MongoClient('localhost:27017')
    db = client.image

    fs = gridfs.GridFS(db)

    x = []
    y = []

    df = pd.read_csv(max_file)
   # import_file =import_file.iloc[: , :-1]
    df['Credit'] =   df['Credit'].fillna('0')

    df['Debit'] =   df['Debit'].fillna('0')

    print(df)
    print(max_file)
    with open(max_file,'r') as csvfile:
        plots = csv.reader(csvfile, delimiter = ',') 
        next(plots)
        for row in plots:
            x.append(row[0])
            y.append(row[1])

    fig = plt.figure()
    plt.bar(x, y, color = 'g', width = 0.5,label = "Bar Graph")
    plt.xlabel('Dates')
    plt.ylabel('Balance')
    plt.title('BAR GRAPH')
    plt.legend()
    plt.show()
    fig.savefig('D:\output\saved_figure.png')
    file = "saved_figure.png"
    return send_file("D:\output\saved_figure.png",mimetype=("image/png"))

@app.route("/amountgraph", methods = ['GET','POST'])
def amountgraph():
    target_path ='D:\\uploads'

    #for x in os.listdir(target_path):
       # if x.endswith('.pdf'):
           # print(x)
    #tabula.convert_into("jagga.pdf", "jagga.csv", pages="all")
            

    folder_path = r'D:\\uploads'
    file_type = '\*csv'
    files = glob.glob(folder_path + file_type)
    max_file = max(files, key=os.path.getctime)


    app = Flask(__name__)



    client = MongoClient('localhost:27017')
    db = client.image

    fs = gridfs.GridFS(db)



    x = []
    y = []

    df = pd.read_csv(max_file)
   # import_file =import_file.iloc[: , :-1]
    df['Credit'] = df['Credit'].fillna('0')

    df['Debit'] = df['Debit'].fillna('0')

    print(df)
    print(max_file)
    with open(max_file,'r') as csvfile:
        plots = csv.reader(csvfile, delimiter = ',') 
        next(plots)
        for row in plots:
            x.append(row[0])
            y.append(row[4])

    fig = plt.figure()
    plt.bar(x, y, color = 'g', width = 0.5, label = "Expenditure")
    plt.xlabel('Dates')
    plt.ylabel('Balance')
    plt.title('Your Expenditure')
    plt.legend()
    plt.show()
    fig.savefig('D:\AmountvsBalance\saved_figure.png')
    file = "saved_figure.png"
    return send_file("D:\AmountvsBalance\saved_figure.png",mimetype=("image/png"))

@app.route("/scattergraph", methods = ['GET','POST'])
def scattergraph():
    target_path ='D:\\uploads'

    #for x in os.listdir(target_path):
       # if x.endswith('.pdf'):
           # print(x)
    #tabula.convert_into("jagga.pdf", "jagga.csv", pages="all")
            

    folder_path = r'D:\\uploads'
    file_type = '\*csv'
    files = glob.glob(folder_path + file_type)
    max_file = max(files, key=os.path.getctime)


    app = Flask(__name__)



    client = MongoClient('localhost:27017')
    db = client.image

    fs = gridfs.GridFS(db)



    x = []
    y = []

    dataframe = pd.read_csv(max_file)
   # dataframe =dataframe.iloc[: , :-1]
    dataframe['Credit'] =  dataframe['Credit'].fillna('0')

    dataframe['Debit'] =  dataframe['Debit'].fillna('0')
    x=dataframe['Debit']
    y=dataframe['Description']
    fig = plt.figure()
    plt.scatter(x, y)
    plt.plot(x,y)
    
    plt.grid()
   

   # fig = plt.figure()
   
   # plt.legend()
   # plt.show()
    fig.savefig('D:\scattergraphoutput\saved_figure.png')
    file = "saved_figure.png"
    plt.legend()
    plt.show()
    return send_file("D:\scattergraphoutput\saved_figure.png",mimetype=("image/png"))

@app.route("/categoryamount", methods = ['GET','POST'])
def categoryamount():
    target_path ='D:\\uploads'

    #for x in os.listdir(target_path):
       # if x.endswith('.pdf'):
           # print(x)
    #tabula.convert_into("jagga.pdf", "jagga.csv", pages="all")
            

    folder_path = r'D:\\uploads'
    file_type = '\*csv'
    files = glob.glob(folder_path + file_type)
    max_file = max(files, key=os.path.getctime)


    app = Flask(__name__)



    client = MongoClient('localhost:27017')
    db = client.image

    fs = gridfs.GridFS(db)



    x = []
    y = []

    df = pd.read_csv(max_file)
   # import_file =import_file.iloc[: , :-1]
    df['Credit'] = df['Credit'].fillna('0')

    df['Debit'] = df['Debit'].fillna('0')

    print(df)
    print(max_file)
    with open(max_file,'r') as csvfile:
        plots = csv.reader(csvfile, delimiter = ',') 
        next(plots)
        for row in plots:
            x.append(row[3])
            y.append(row[1])

    fig = plt.figure()
    plt.bar(x, y, color = 'g', width = 0.5, label = "Debit")
    plt.xlabel('Debited')
    plt.ylabel('category')
    plt.title('Your Expenditure According to Category')
    plt.legend()
    plt.show()
    fig.savefig('D:\categorygraph\saved_figure.png')
    file = "saved_figure.png"
    return send_file("D:\categorygraph\saved_figure.png",mimetype=("image/png"))


@app.route("/creditsamount", methods = ['GET','POST'])
def creditsamount():
    target_path ='D:\\uploads'

    #for x in os.listdir(target_path):
       # if x.endswith('.pdf'):
           # print(x)
    #tabula.convert_into("jagga.pdf", "jagga.csv", pages="all")
            

    folder_path = r'D:\\uploads'
    file_type = '\*csv'
    files = glob.glob(folder_path + file_type)
    max_file = max(files, key=os.path.getctime)


    app = Flask(__name__)



    client = MongoClient('localhost:27017')
    db = client.image

    fs = gridfs.GridFS(db)



    x = []
    y = []

    df = pd.read_csv(max_file)
   # import_file =import_file.iloc[: , :-1]
    df['Credit'] = df['Credit'].fillna('0')

    df['Debit'] = df['Debit'].fillna('0')

    print(df)
    print(max_file)
    with open(max_file,'r') as csvfile:
        plots = csv.reader(csvfile, delimiter = ',') 
        next(plots)
        for row in plots:
            x.append(row[2])
            y.append(row[1])

    fig = plt.figure()
    plt.bar(x, y, color = 'g', width = 0.5, label = "Credit")
    plt.xlabel('Credit')
    plt.ylabel('category')
    plt.title('Your Expenditure According to Category')
    plt.legend()
    plt.show()
    fig.savefig('D:\categorygraph\saved_figure.png')
    file = "saved_figure.png"
    return send_file("D:\categorygraph\saved_figure.png",mimetype=("image/png"))


@app.route("/balanceamount", methods = ['GET','POST'])
def balanceamount():
    target_path ='D:\\uploads'

    #for x in os.listdir(target_path):
       # if x.endswith('.pdf'):
           # print(x)
    #tabula.convert_into("jagga.pdf", "jagga.csv", pages="all")
            

    folder_path = r'D:\\uploads'
    file_type = '\*csv'
    files = glob.glob(folder_path + file_type)
    max_file = max(files, key=os.path.getctime)


    app = Flask(__name__)



    client = MongoClient('localhost:27017')
    db = client.image

    fs = gridfs.GridFS(db)



    x = []
    y = []

    df = pd.read_csv(max_file)
   # import_file =import_file.iloc[: , :-1]
    df['Credit'] = df['Credit'].fillna('0')

    df['Debit'] = df['Debit'].fillna('0')

    print(df)
    print(max_file)
    with open(max_file,'r') as csvfile:
        plots = csv.reader(csvfile, delimiter = ',') 
        next(plots)
        for row in plots:
            x.append(row[0])
            y.append(row[4])

    fig = plt.figure()
    plt.bar(x, y, color = 'g', width = 0.2, label = "Balance")
    plt.xlabel('Date')
    plt.ylabel('Balance')
    plt.title('Your Balance')
    plt.legend()
    plt.show()
    fig.savefig('D:\BalanceAmount\saved_figure.png')
    file = "saved_figure.png"
    return send_file("D:\BalanceAmount\saved_figure.png",mimetype=("image/png"))






if __name__ == "__main__":
    app.run()